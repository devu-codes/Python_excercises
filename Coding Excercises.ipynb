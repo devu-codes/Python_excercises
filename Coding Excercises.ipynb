{
 "cells": [
  {
   "cell_type": "markdown",
   "metadata": {},
   "source": [
    "#### Coding Excercises - Solution 1"
   ]
  },
  {
   "cell_type": "code",
   "execution_count": 2,
   "metadata": {},
   "outputs": [],
   "source": [
    "composers = {'Johann': 65, 'Ludwig': 56, 'Frederic': 39, 'Wolfgang': 35}"
   ]
  },
  {
   "cell_type": "code",
   "execution_count": 3,
   "metadata": {},
   "outputs": [],
   "source": [
    "sorted_composers = {'Wolfgang':35,             # desired result\n",
    "                   'Frederic': 39,\n",
    "                   'Ludwig': 56,\n",
    "                   'Johann': 65}"
   ]
  },
  {
   "cell_type": "code",
   "execution_count": 4,
   "metadata": {},
   "outputs": [
    {
     "data": {
      "text/plain": [
       "dict_items([('Johann', 65), ('Ludwig', 56), ('Frederic', 39), ('Wolfgang', 35)])"
      ]
     },
     "execution_count": 4,
     "metadata": {},
     "output_type": "execute_result"
    }
   ],
   "source": [
    "composers.items()"
   ]
  },
  {
   "cell_type": "code",
   "execution_count": 6,
   "metadata": {},
   "outputs": [
    {
     "data": {
      "text/plain": [
       "[('Wolfgang', 35), ('Frederic', 39), ('Ludwig', 56), ('Johann', 65)]"
      ]
     },
     "execution_count": 6,
     "metadata": {},
     "output_type": "execute_result"
    }
   ],
   "source": [
    "sorted(composers.items(), key= lambda el:el[1])"
   ]
  },
  {
   "cell_type": "code",
   "execution_count": 7,
   "metadata": {},
   "outputs": [],
   "source": [
    "def sort_dict_by_value(d):\n",
    "    d = {k: v\n",
    "        for k, v in sorted(d.items(), key= lambda el:el[1])\n",
    "        }\n",
    "    return d"
   ]
  },
  {
   "cell_type": "code",
   "execution_count": 8,
   "metadata": {},
   "outputs": [
    {
     "data": {
      "text/plain": [
       "{'Wolfgang': 35, 'Frederic': 39, 'Ludwig': 56, 'Johann': 65}"
      ]
     },
     "execution_count": 8,
     "metadata": {},
     "output_type": "execute_result"
    }
   ],
   "source": [
    "sort_dict_by_value(composers)"
   ]
  },
  {
   "cell_type": "code",
   "execution_count": 9,
   "metadata": {},
   "outputs": [],
   "source": [
    "def sort_dict_by_value(d):\n",
    "    return dict(sorted(d.items(), key=lambda el: el[1]))"
   ]
  },
  {
   "cell_type": "code",
   "execution_count": 11,
   "metadata": {},
   "outputs": [
    {
     "data": {
      "text/plain": [
       "{'Wolfgang': 35, 'Frederic': 39, 'Ludwig': 56, 'Johann': 65}"
      ]
     },
     "execution_count": 11,
     "metadata": {},
     "output_type": "execute_result"
    }
   ],
   "source": [
    "sort_dict_by_value(composers)"
   ]
  },
  {
   "cell_type": "markdown",
   "metadata": {},
   "source": [
    "#### Coding Excercise - Solution 2"
   ]
  },
  {
   "cell_type": "code",
   "execution_count": 12,
   "metadata": {},
   "outputs": [],
   "source": [
    "d1 = {'a': 1, 'b': 2, 'c': 3, 'd': 4}\n",
    "d2 = {'b': 20, 'c': 30, 'y': 40, 'z': 50}"
   ]
  },
  {
   "cell_type": "code",
   "execution_count": 13,
   "metadata": {},
   "outputs": [],
   "source": [
    "d = {'b': (2, 20), 'c': (3, 30)}  # desired result"
   ]
  },
  {
   "cell_type": "code",
   "execution_count": 15,
   "metadata": {},
   "outputs": [],
   "source": [
    "def intersect(d1, d2):\n",
    "    d1_keys = d1.keys()\n",
    "    d2_keys = d2.keys()\n",
    "    keys = d1_keys & d2_keys\n",
    "    d = {k:(d1[k], d2[k]) for k in keys}\n",
    "    return d"
   ]
  },
  {
   "cell_type": "code",
   "execution_count": 16,
   "metadata": {},
   "outputs": [
    {
     "data": {
      "text/plain": [
       "{'c': (3, 30), 'b': (2, 20)}"
      ]
     },
     "execution_count": 16,
     "metadata": {},
     "output_type": "execute_result"
    }
   ],
   "source": [
    "intersect(d1, d2)"
   ]
  },
  {
   "cell_type": "markdown",
   "metadata": {},
   "source": [
    "#### Coding Excercise - Solution 3"
   ]
  },
  {
   "cell_type": "code",
   "execution_count": 17,
   "metadata": {},
   "outputs": [],
   "source": [
    "d1 = {'python': 10, 'java': 3, 'c#': 8, 'javascript': 15}\n",
    "d2 = {'java': 10, 'c++': 10, 'c#': 4, 'go': 9, 'python': 6}\n",
    "d3 = {'erlang': 5, 'haskell': 2, 'python': 1, 'pascal': 1}"
   ]
  },
  {
   "cell_type": "code",
   "execution_count": 18,
   "metadata": {},
   "outputs": [],
   "source": [
    "# desired result\n",
    "d = {'python': 17,\n",
    "     'javascript': 15,\n",
    "     'java': 13,\n",
    "     'c#': 12,\n",
    "     'c++': 10,\n",
    "     'go': 9,\n",
    "     'erlang': 5,\n",
    "     'haskell': 2,\n",
    "     'pascal': 1}"
   ]
  },
  {
   "cell_type": "code",
   "execution_count": 32,
   "metadata": {},
   "outputs": [],
   "source": [
    "def merge(*dicts):\n",
    "    unsorted = {}\n",
    "    for d in dicts:\n",
    "        for k, v in d.items():\n",
    "            unsorted[k] = unsorted.get(k, 0) + v\n",
    "    return dict(sorted(unsorted.items(), key= lambda el:el[1], reverse=True))"
   ]
  },
  {
   "cell_type": "code",
   "execution_count": 33,
   "metadata": {},
   "outputs": [
    {
     "data": {
      "text/plain": [
       "{'python': 17,\n",
       " 'javascript': 15,\n",
       " 'java': 13,\n",
       " 'c#': 12,\n",
       " 'c++': 10,\n",
       " 'go': 9,\n",
       " 'erlang': 5,\n",
       " 'haskell': 2,\n",
       " 'pascal': 1}"
      ]
     },
     "execution_count": 33,
     "metadata": {},
     "output_type": "execute_result"
    }
   ],
   "source": [
    "merge(d1, d2, d3)"
   ]
  },
  {
   "cell_type": "markdown",
   "metadata": {},
   "source": [
    "#### Coding Excercise - Solution 4"
   ]
  },
  {
   "cell_type": "code",
   "execution_count": 2,
   "metadata": {},
   "outputs": [],
   "source": [
    "n1 = {'employees': 100, 'employee': 5000, 'users': 10, 'user': 100}\n",
    "n2 = {'employees': 250, 'users': 23, 'user': 230}\n",
    "n3 = {'employees': 150, 'users': 4, 'login': 1000}"
   ]
  },
  {
   "cell_type": "markdown",
   "metadata": {},
   "source": [
    "#desired result \n",
    "result = {'employee': (5000, 0, 0),\n",
    "          'user': (100, 230, 0),\n",
    "          'login': (0, 0, 1000)}"
   ]
  },
  {
   "cell_type": "code",
   "execution_count": 3,
   "metadata": {},
   "outputs": [],
   "source": [
    "union = n1.keys() | n2.keys() | n3.keys()\n",
    "intersection = n1.keys() & n2.keys() & n3.keys()"
   ]
  },
  {
   "cell_type": "code",
   "execution_count": 4,
   "metadata": {},
   "outputs": [
    {
     "data": {
      "text/plain": [
       "({'employee', 'employees', 'login', 'user', 'users'},\n",
       " {'employees', 'users'},\n",
       " {'employee', 'login', 'user'})"
      ]
     },
     "execution_count": 4,
     "metadata": {},
     "output_type": "execute_result"
    }
   ],
   "source": [
    "union, intersection, union - intersection"
   ]
  },
  {
   "cell_type": "code",
   "execution_count": 8,
   "metadata": {},
   "outputs": [],
   "source": [
    "def identify(node1, node2, node3):\n",
    "    union = node1.keys() | node2.keys() | node3.keys()\n",
    "    intersection = node1.keys() & node2.keys() & node3.keys()\n",
    "    relevant = union - intersection\n",
    "    result = {\n",
    "        key: (node1.get(key, 0), node2.get(key, 0), node3.get(key, 0))\n",
    "        for key in relevant\n",
    "    }\n",
    "    return result"
   ]
  },
  {
   "cell_type": "code",
   "execution_count": 9,
   "metadata": {},
   "outputs": [
    {
     "data": {
      "text/plain": [
       "{'user': (100, 230, 0), 'login': (0, 0, 1000), 'employee': (5000, 0, 0)}"
      ]
     },
     "execution_count": 9,
     "metadata": {},
     "output_type": "execute_result"
    }
   ],
   "source": [
    "identify(n1, n2, n3)"
   ]
  },
  {
   "cell_type": "code",
   "execution_count": null,
   "metadata": {},
   "outputs": [],
   "source": []
  }
 ],
 "metadata": {
  "kernelspec": {
   "display_name": "Python 3",
   "language": "python",
   "name": "python3"
  },
  "language_info": {
   "codemirror_mode": {
    "name": "ipython",
    "version": 3
   },
   "file_extension": ".py",
   "mimetype": "text/x-python",
   "name": "python",
   "nbconvert_exporter": "python",
   "pygments_lexer": "ipython3",
   "version": "3.7.4"
  }
 },
 "nbformat": 4,
 "nbformat_minor": 2
}
